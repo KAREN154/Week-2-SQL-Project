{
  "cells": [
    {
      "cell_type": "markdown",
      "metadata": {
        "id": "mi1t2Elx103F"
      },
      "source": []
    },
    {
      "cell_type": "code",
      "execution_count": null,
      "metadata": {
        "colab": {
          "base_uri": "https://localhost:8080/"
        },
        "id": "ThkKtgiJy5oZ",
        "outputId": "c2ee39cf-5f0f-4f98-8f77-9aff56df3e59"
      },
      "outputs": [
        {
          "name": "stdout",
          "output_type": "stream",
          "text": [
            "Collecting pymysql\n",
            "  Downloading PyMySQL-1.1.0-py3-none-any.whl (44 kB)\n",
            "\u001b[?25l     \u001b[90m━━━━━━━━━━━━━━━━━━━━━━━━━━━━━━━━━━━━━━━━\u001b[0m \u001b[32m0.0/44.8 kB\u001b[0m \u001b[31m?\u001b[0m eta \u001b[36m-:--:--\u001b[0m\r\u001b[2K     \u001b[90m━━━━━━━━━━━━━━━━━━━━━━━━━━━━━━━━━━━━━━━━\u001b[0m \u001b[32m44.8/44.8 kB\u001b[0m \u001b[31m1.9 MB/s\u001b[0m eta \u001b[36m0:00:00\u001b[0m\n",
            "\u001b[?25hInstalling collected packages: pymysql\n",
            "Successfully installed pymysql-1.1.0\n"
          ]
        }
      ],
      "source": [
        "!pip install pymysql"
      ]
    },
    {
      "cell_type": "code",
      "execution_count": null,
      "metadata": {
        "id": "EwgxTm_k0Rk0"
      },
      "outputs": [],
      "source": [
        "%load_ext sql"
      ]
    },
    {
      "cell_type": "code",
      "execution_count": null,
      "metadata": {
        "id": "RtrPOuRn0apT"
      },
      "outputs": [],
      "source": [
        "%sql sqlite:///practice.db"
      ]
    },
    {
      "cell_type": "markdown",
      "source": [
        "CREATION OF 3 TABLES\n",
        "#1\n"
      ],
      "metadata": {
        "id": "AP-YOvODIwGd"
      }
    },
    {
      "cell_type": "code",
      "execution_count": null,
      "metadata": {
        "colab": {
          "base_uri": "https://localhost:8080/"
        },
        "id": "NduWd-Mo06Uh",
        "outputId": "9041a49e-41c5-4341-a4d9-709e69b4e01a"
      },
      "outputs": [
        {
          "name": "stdout",
          "output_type": "stream",
          "text": [
            " * sqlite:///practice.db\n",
            "Done.\n"
          ]
        },
        {
          "data": {
            "text/plain": [
              "[]"
            ]
          },
          "execution_count": 4,
          "metadata": {},
          "output_type": "execute_result"
        }
      ],
      "source": [
        "%%sql\n",
        "\n",
        "CREATE TABLE beneficiary_partner_data (\n",
        "partner_id INTEGER NOT NULL PRIMARY KEY,\n",
        "partner VARCHAR(30) NOT NULL,\n",
        "village VARCHAR(30) NOT NULL,\n",
        "beneficiaries INTEGER,\n",
        "beneficiary_type VARCHAR(30)\n",
        ");"
      ]
    },
    {
      "cell_type": "markdown",
      "source": [
        "#2"
      ],
      "metadata": {
        "id": "XEnYz17AJBiZ"
      }
    },
    {
      "cell_type": "code",
      "execution_count": null,
      "metadata": {
        "colab": {
          "base_uri": "https://localhost:8080/"
        },
        "id": "TvH81ePF1bSj",
        "outputId": "f23a8174-671c-4ba2-cb58-83888c9fcc30"
      },
      "outputs": [
        {
          "name": "stdout",
          "output_type": "stream",
          "text": [
            " * sqlite:///practice.db\n",
            "Done.\n"
          ]
        },
        {
          "data": {
            "text/plain": [
              "[]"
            ]
          },
          "execution_count": 5,
          "metadata": {},
          "output_type": "execute_result"
        }
      ],
      "source": [
        "%%sql\n",
        "\n",
        " CREATE TABLE village_locations (\n",
        "    village_id INTEGER NOT NULL PRIMARY KEY,\n",
        "    village VARCHAR(30) NOT NULL,\n",
        "    latitude VARCHAR(30),\n",
        "    longitude VARCHAR(30),\n",
        "    total_population INTEGER\n",
        ");"
      ]
    },
    {
      "cell_type": "markdown",
      "source": [
        "#3"
      ],
      "metadata": {
        "id": "gLQ0UoswJHfE"
      }
    },
    {
      "cell_type": "code",
      "execution_count": null,
      "metadata": {
        "colab": {
          "base_uri": "https://localhost:8080/"
        },
        "id": "iLeMN7yO2Jqo",
        "outputId": "a6a6e29b-5dd9-4f86-9f48-4f531c07461f"
      },
      "outputs": [
        {
          "name": "stdout",
          "output_type": "stream",
          "text": [
            " * sqlite:///practice.db\n",
            "Done.\n"
          ]
        },
        {
          "data": {
            "text/plain": [
              "[]"
            ]
          },
          "execution_count": 6,
          "metadata": {},
          "output_type": "execute_result"
        }
      ],
      "source": [
        "%%sql CREATE TABLE jurisdiction_hierarchy (\n",
        "     jurisdiction_id INTEGER NOT NULL PRIMARY KEY,\n",
        "      village VARCHAR(30) NOT NULL,\n",
        "     jurisdiction_type VARCHAR(30) NOT NULL,\n",
        "     Region VARCHAR(30)\n",
        ");"
      ]
    },
    {
      "cell_type": "markdown",
      "source": [
        "POPULATING TABLES"
      ],
      "metadata": {
        "id": "o7jbxpsoJLnL"
      }
    },
    {
      "cell_type": "code",
      "execution_count": null,
      "metadata": {
        "colab": {
          "base_uri": "https://localhost:8080/"
        },
        "id": "dZXd4gBf-vYI",
        "outputId": "5a9853a6-991b-402a-8311-6a1cff68a8ba"
      },
      "outputs": [
        {
          "name": "stdout",
          "output_type": "stream",
          "text": [
            " * sqlite:///practice.db\n",
            "1 rows affected.\n",
            "1 rows affected.\n",
            "1 rows affected.\n",
            "1 rows affected.\n",
            "1 rows affected.\n",
            "1 rows affected.\n",
            "1 rows affected.\n",
            "1 rows affected.\n",
            "1 rows affected.\n",
            "1 rows affected.\n",
            "1 rows affected.\n",
            "1 rows affected.\n",
            "1 rows affected.\n",
            "1 rows affected.\n"
          ]
        },
        {
          "data": {
            "text/plain": [
              "[]"
            ]
          },
          "execution_count": 7,
          "metadata": {},
          "output_type": "execute_result"
        }
      ],
      "source": [
        "%%sql\n",
        "INSERT INTO village_locations(village_id, village,latitude,longitude, total_population) VALUES(1,'Dharkenley','4°47''35.40\"','45°12''28.80\"',12800);\n",
        "INSERT INTO village_locations(village_id, village,latitude,longitude, total_population) VALUES(2,'Bulo-Kahin','4°47''57.00\"','45°11''5.70\"',9485);\n",
        "INSERT INTO village_locations(village_id, village,latitude,longitude, total_population) VALUES(3,'Hilo Kelyo','4°47''57.00\"','45°12''58.60\"',5212);\n",
        "INSERT INTO village_locations(village_id, village,latitude,longitude, total_population) VALUES(4,'Xubow','4°46''46.77\"','45°12''7.57\"',2558);\n",
        "INSERT INTO village_locations(village_id, village,latitude,longitude, total_population) VALUES(5,'Xiintooy','4°44''14.40\"','45°13''5.00\"',3850);\n",
        "INSERT INTO village_locations(village_id, village,latitude,longitude, total_population) VALUES(6,'Dhagax Jebis','4°44''27.86\"','45°12''42.03\"',3563);\n",
        "INSERT INTO village_locations(village_id, village,latitude,longitude, total_population) VALUES(7,'Filtare','4°44''20.43\"','45°12''27.89\"',8000);\n",
        "INSERT INTO village_locations(village_id, village,latitude,longitude, total_population) VALUES(8,'Howl-Wadaag','4°43''50.00\"','45°11''58.20\"',7525);\n",
        "INSERT INTO village_locations(village_id, village,latitude,longitude, total_population) VALUES(9,'Balcad','2°21.624''','45°23.928''',1500);\n",
        "INSERT INTO village_locations(village_id, village,latitude,longitude, total_population) VALUES(10,'Mareeray','2°23.504''','45°25.200''',7500);\n",
        "INSERT INTO village_locations(village_id, village,latitude,longitude, total_population) VALUES(11,'Kulmis','2°36.761''','45°30.642''',6058);\n",
        "INSERT INTO village_locations(village_id, village,latitude,longitude, total_population) VALUES(12,'Sabuun','2°53.020''','45°32.356''',5483);\n",
        "INSERT INTO village_locations(village_id, village,latitude,longitude, total_population) VALUES(13,'Bayaxaw','2°44.768''','45°29.727''',3000);\n",
        "INSERT INTO village_locations(village_id, village,latitude,longitude, total_population) VALUES(14,'Bayaxawo','2°44.768''','45°29.926''',7560);\n"
      ]
    },
    {
      "cell_type": "markdown",
      "metadata": {
        "id": "yprLhoHj08gE"
      },
      "source": [
        "# New Section"
      ]
    },
    {
      "cell_type": "code",
      "execution_count": null,
      "metadata": {
        "colab": {
          "base_uri": "https://localhost:8080/"
        },
        "id": "Qj-GmEo9Jtk8",
        "outputId": "8a8bc878-e801-4c46-a152-8a5f3ec3a8eb"
      },
      "outputs": [
        {
          "name": "stdout",
          "output_type": "stream",
          "text": [
            " * sqlite:///practice.db\n",
            "1 rows affected.\n",
            "1 rows affected.\n",
            "1 rows affected.\n",
            "1 rows affected.\n",
            "1 rows affected.\n",
            "1 rows affected.\n",
            "1 rows affected.\n",
            "1 rows affected.\n",
            "1 rows affected.\n",
            "1 rows affected.\n",
            "1 rows affected.\n",
            "1 rows affected.\n",
            "1 rows affected.\n",
            "1 rows affected.\n",
            "1 rows affected.\n",
            "1 rows affected.\n",
            "1 rows affected.\n",
            "1 rows affected.\n"
          ]
        },
        {
          "data": {
            "text/plain": [
              "[]"
            ]
          },
          "execution_count": 8,
          "metadata": {},
          "output_type": "execute_result"
        }
      ],
      "source": [
        "%%sql\n",
        "INSERT INTO jurisdiction_hierarchy VALUES(1,'Middle Shabelle','Region',NULL);\n",
        "INSERT INTO jurisdiction_hierarchy VALUES(2,'Hiraan','Region',NULL);\n",
        "INSERT INTO jurisdiction_hierarchy VALUES(3,'Balcad','District','Middle Shabelle');\n",
        "INSERT INTO jurisdiction_hierarchy VALUES(4,'Jowhar','District','Middle Shabelle');\n",
        "INSERT INTO jurisdiction_hierarchy VALUES(5,'Beledweyn','District','Hiraan');\n",
        "INSERT INTO jurisdiction_hierarchy VALUES(6,'Dharkenley','Village','Beledweyn');\n",
        "INSERT INTO jurisdiction_hierarchy VALUES(7,'Bulo-Kahin','Village','Beledweyn');\n",
        "INSERT INTO jurisdiction_hierarchy VALUES(8,'Hilo Kelyo','Village','Beledweyn');\n",
        "INSERT INTO jurisdiction_hierarchy VALUES(9,'Xubow','Village','Beledweyn');\n",
        "INSERT INTO jurisdiction_hierarchy VALUES(10,'Xiintooy','Village','Beledweyn');\n",
        "INSERT INTO jurisdiction_hierarchy VALUES(11,'Dhagax Jebis','Village','Beledweyn');\n",
        "INSERT INTO jurisdiction_hierarchy VALUES(12,'Filtare','Village','Beledweyn');\n",
        "INSERT INTO jurisdiction_hierarchy VALUES(13,'Howl-Wadaag','Village','Beledweyn');\n",
        "INSERT INTO jurisdiction_hierarchy VALUES(14,'Balcad','Village','Balcad');\n",
        "INSERT INTO jurisdiction_hierarchy VALUES(15,'Mareeray','Village','Balcad');\n",
        "INSERT INTO jurisdiction_hierarchy VALUES(16,'Kulmis','Village','Balcad');\n",
        "INSERT INTO jurisdiction_hierarchy VALUES(17,'Sabuun','Village','Jowhar');\n",
        "INSERT INTO jurisdiction_hierarchy VALUES(18,'Bayaxaw','Village','Jowhar');"
      ]
    },
    {
      "cell_type": "code",
      "execution_count": null,
      "metadata": {
        "colab": {
          "base_uri": "https://localhost:8080/"
        },
        "id": "7qQoFCKKKXB3",
        "outputId": "d9db5257-75a1-4f70-8320-8c0f83bc90b4"
      },
      "outputs": [
        {
          "name": "stdout",
          "output_type": "stream",
          "text": [
            " * sqlite:///practice.db\n",
            "38 rows affected.\n"
          ]
        },
        {
          "data": {
            "text/plain": [
              "[]"
            ]
          },
          "execution_count": 9,
          "metadata": {},
          "output_type": "execute_result"
        }
      ],
      "source": [
        "%%sql\n",
        "INSERT INTO beneficiary_partner_data(partner_id,partner,village,beneficiaries,beneficiary_type) VALUES\n",
        "(1,'IRC','Balcad',1450,'Individuals'),\n",
        "(2,'NRC','Balcad',50,'Households'),\n",
        "(3,'SCI','Balcad',1123,'Individuals'),\n",
        "(4,'IMC','Balcad',1245,'Individuals'),\n",
        "(5,'SCI','Mareeray',5200,'Individuals'),\n",
        "(6,'IMC','Mareeray',70,'Households'),\n",
        "(7,'IRC','Mareeray',2100,'Individuals'),\n",
        "(8,'CESVI','Mareeray',1800,'Individuals'),\n",
        "(9,'SCI','Kulmis',1340,'Individuals'),\n",
        "(10,'IMC','Kulmis',55,'Households'),\n",
        "(11,'SCI','Kulmis',4500,'Individuals'),\n",
        "(12,'IMC','Kulmis',1670,'Individuals'),\n",
        "(13,'IMC','Sabuun',1340,'Individuals'),\n",
        "(14,'IRC','Sabuun',66,'Households'),\n",
        "(15,'CESVI','Sabuun',4090,'Individuals'),\n",
        "(16,'SCI','Sabuun',2930,'Individuals'),\n",
        "(17,'IMC','Bayaxaw',2800,'Individuals'),\n",
        "(18,'IRC','Bayaxaw',2100,'Individuals'),\n",
        "(19,'CESVI','Bayaxaw',45,'Households'),\n",
        "(20,'SCI','Bayaxaw',1700,'Individuals'),\n",
        "(21,'SCI','Bayaxawo',5900,'Individuals'),\n",
        "(22,'IMC','Bayaxawo',40,'Households'),\n",
        "(23,'IRC','Bayaxawo',1500,'Individuals'),\n",
        "(24,'CESVI','Bayaxawo',1260,'Individuals'),\n",
        "(25,'CESVI','Dharkenley',7880,'Individuals'),\n",
        "(26,'IRC','Dharkenley',34,'Households'),\n",
        "(27,'SCI','Bulo-Kahin',4300,'Individuals'),\n",
        "(28,'IMC','Bulo-Kahin',4212,'Individuals'),\n",
        "(29,'IRC','Bulo-Kahin',3200,'Individuals'),\n",
        "(30,'IRC','Hilo Kelyo',5212,'Individuals'),\n",
        "(31,'SCI','Hilo Kelyo',25,'Households'),\n",
        "(32,'CESVI','Xubow',2157,'Individuals'),\n",
        "(33,'IMC','Xiintooy',1667,'Individuals'),\n",
        "(34,'IRC','Xiintooy',2667,'Individuals'),\n",
        "(35,'CESVI','Dhagax Jebis',2856,'Individuals'),\n",
        "(36,'CESVI','Filtare',7519,'Individuals'),\n",
        "(37,'CESVI','Howl-Wadaag',6870,'Individuals'),\n",
        "(38,'IMC','Howl-Wadaag',32,'Households');"
      ]
    },
    {
      "cell_type": "markdown",
      "metadata": {
        "id": "en_-vXO5egIv"
      },
      "source": [
        "**Answers:**"
      ]
    },
    {
      "cell_type": "code",
      "execution_count": null,
      "metadata": {
        "colab": {
          "base_uri": "https://localhost:8080/"
        },
        "id": "GqlUrY8yef3W",
        "outputId": "bc32ebff-ad71-451d-f333-0f55d668896f"
      },
      "outputs": [
        {
          "name": "stdout",
          "output_type": "stream",
          "text": [
            " * sqlite:///practice.db\n",
            "Done.\n",
            "Done.\n"
          ]
        },
        {
          "data": {
            "text/plain": [
              "[]"
            ]
          },
          "execution_count": 24,
          "metadata": {},
          "output_type": "execute_result"
        }
      ],
      "source": [
        "%%sql\n",
        "-- Drop the view if it exists\n",
        "DROP VIEW IF EXISTS District_summary;\n",
        "\n",
        "-- Create the view summary\n",
        "--i) District Name\n",
        "--ii) Region Name\n",
        "\n",
        "CREATE VIEW District_summary AS\n",
        "SELECT DISTINCT jurisdiction_type AS District_Name, Region AS Region_Name\n",
        "FROM jurisdiction_hierarchy\n",
        "WHERE jurisdiction_type = 'District';\n",
        "\n",
        "\n",
        "\n"
      ]
    },
    {
      "cell_type": "code",
      "source": [
        "%%sql\n",
        "SELECT *\n",
        "FROM District_summary;\n",
        "\n"
      ],
      "metadata": {
        "colab": {
          "base_uri": "https://localhost:8080/",
          "height": 118
        },
        "id": "CRdsZU0rEJ_T",
        "outputId": "73a0607d-67b5-4816-915b-eede723e65e9"
      },
      "execution_count": null,
      "outputs": [
        {
          "output_type": "stream",
          "name": "stdout",
          "text": [
            " * sqlite:///practice.db\n",
            "Done.\n"
          ]
        },
        {
          "output_type": "execute_result",
          "data": {
            "text/plain": [
              "[('District', 'Middle Shabelle'), ('District', 'Hiraan')]"
            ],
            "text/html": [
              "<table>\n",
              "    <thead>\n",
              "        <tr>\n",
              "            <th>District_Name</th>\n",
              "            <th>Region_Name</th>\n",
              "        </tr>\n",
              "    </thead>\n",
              "    <tbody>\n",
              "        <tr>\n",
              "            <td>District</td>\n",
              "            <td>Middle Shabelle</td>\n",
              "        </tr>\n",
              "        <tr>\n",
              "            <td>District</td>\n",
              "            <td>Hiraan</td>\n",
              "        </tr>\n",
              "    </tbody>\n",
              "</table>"
            ]
          },
          "metadata": {},
          "execution_count": 34
        }
      ]
    },
    {
      "cell_type": "markdown",
      "metadata": {
        "id": "0gd8I1qB8ir-"
      },
      "source": [
        "iii) No. of Individual Beneficiaries (1HH = 6 Individuals)"
      ]
    },
    {
      "cell_type": "code",
      "execution_count": null,
      "metadata": {
        "colab": {
          "base_uri": "https://localhost:8080/",
          "height": 96
        },
        "id": "ifFOsdA38NK1",
        "outputId": "ae029833-1cef-4987-a25e-023ae38c14c8"
      },
      "outputs": [
        {
          "name": "stdout",
          "output_type": "stream",
          "text": [
            " * sqlite:///practice.db\n",
            "Done.\n"
          ]
        },
        {
          "data": {
            "text/html": [
              "<table>\n",
              "    <thead>\n",
              "        <tr>\n",
              "            <th>total_individual_beneficiaries</th>\n",
              "        </tr>\n",
              "    </thead>\n",
              "    <tbody>\n",
              "        <tr>\n",
              "            <td>95090</td>\n",
              "        </tr>\n",
              "    </tbody>\n",
              "</table>"
            ],
            "text/plain": [
              "[(95090,)]"
            ]
          },
          "execution_count": 25,
          "metadata": {},
          "output_type": "execute_result"
        }
      ],
      "source": [
        "%%sql\n",
        "SELECT\n",
        "    SUM(CASE\n",
        "            WHEN beneficiary_type = 'Individuals' THEN beneficiaries\n",
        "            WHEN beneficiary_type = 'Households' THEN beneficiaries * 6\n",
        "            ELSE 0\n",
        "        END) AS total_individual_beneficiaries\n",
        "FROM\n",
        "    beneficiary_partner_data;\n"
      ]
    },
    {
      "cell_type": "markdown",
      "metadata": {
        "id": "DFUUdB8515kh"
      },
      "source": [
        "TOTAL DISTRICT POPULATION\n",
        "\n",
        "Here i am Calculating the total district population by joining two tables that is the village locations and jurisdiction hierarchy tables  on village which is common in both and then i specified the juridiction type has to be district because thats the total id want."
      ]
    },
    {
      "cell_type": "code",
      "execution_count": null,
      "metadata": {
        "colab": {
          "base_uri": "https://localhost:8080/",
          "height": 96
        },
        "id": "tvlxcSHxumY-",
        "outputId": "0afd521c-a732-4dba-8589-0c82c67b03de"
      },
      "outputs": [
        {
          "name": "stdout",
          "output_type": "stream",
          "text": [
            " * sqlite:///practice.db\n",
            "Done.\n"
          ]
        },
        {
          "data": {
            "text/html": [
              "<table>\n",
              "    <thead>\n",
              "        <tr>\n",
              "            <th>district</th>\n",
              "            <th>total_district_population</th>\n",
              "        </tr>\n",
              "    </thead>\n",
              "    <tbody>\n",
              "        <tr>\n",
              "            <td>Middle Shabelle</td>\n",
              "            <td>1500</td>\n",
              "        </tr>\n",
              "    </tbody>\n",
              "</table>"
            ],
            "text/plain": [
              "[('Middle Shabelle', 1500)]"
            ]
          },
          "execution_count": 14,
          "metadata": {},
          "output_type": "execute_result"
        }
      ],
      "source": [
        "%%sql\n",
        "SELECT\n",
        "    jh.Region AS district,\n",
        "    SUM(vl.total_population) AS total_district_population\n",
        "FROM\n",
        "    village_locations vl\n",
        "JOIN\n",
        "    jurisdiction_hierarchy jh ON vl.village = jh.village\n",
        "WHERE\n",
        "    jh.jurisdiction_type = 'District'\n",
        "GROUP BY\n",
        "    jh.Region;\n"
      ]
    },
    {
      "cell_type": "markdown",
      "metadata": {
        "id": "MJZSbcSy4H41"
      },
      "source": [
        "iv) No. of Individual Beneficiaries / Total District Population\n",
        "\n"
      ]
    },
    {
      "cell_type": "code",
      "execution_count": null,
      "metadata": {
        "colab": {
          "base_uri": "https://localhost:8080/",
          "height": 96
        },
        "id": "xoqLQOBk2tPh",
        "outputId": "70524469-0133-45d4-dc67-140a54bbac7d"
      },
      "outputs": [
        {
          "name": "stdout",
          "output_type": "stream",
          "text": [
            " * sqlite:///practice.db\n",
            "Done.\n"
          ]
        },
        {
          "data": {
            "text/html": [
              "<table>\n",
              "    <thead>\n",
              "        <tr>\n",
              "            <th>ratio</th>\n",
              "        </tr>\n",
              "    </thead>\n",
              "    <tbody>\n",
              "        <tr>\n",
              "            <td>63</td>\n",
              "        </tr>\n",
              "    </tbody>\n",
              "</table>"
            ],
            "text/plain": [
              "[(63,)]"
            ]
          },
          "execution_count": 15,
          "metadata": {},
          "output_type": "execute_result"
        }
      ],
      "source": [
        "%%sql\n",
        "SELECT\n",
        "    95090 / 1500 AS ratio\n",
        "FROM\n",
        "    (SELECT SUM(beneficiaries) AS total_individual_beneficiaries FROM beneficiary_partner_data WHERE beneficiary_type = 'Individuals') AS individual_beneficiaries,\n",
        "    (SELECT SUM(total_population) AS total_district_population FROM village_locations vl JOIN jurisdiction_hierarchy jh ON vl.village = jh.village WHERE jh.jurisdiction_type = 'District' GROUP BY jh.Region) AS district_population;\n"
      ]
    },
    {
      "cell_type": "code",
      "source": [
        "%%sql\n",
        "CREATE VIEW Partner_summary AS\n",
        "SELECT\n",
        "    partner AS Partner_Name,\n",
        "    COUNT(DISTINCT vl.village_id) AS No_of_Villages_reached,\n",
        "    COUNT(DISTINCT jh.Region) AS No_of_Districts_reached\n",
        "FROM\n",
        "    beneficiary_partner_data bpd\n",
        "JOIN\n",
        "    village_locations vl ON bpd.village = vl.village\n",
        "JOIN\n",
        "    jurisdiction_hierarchy jh ON bpd.village = jh.village\n",
        "GROUP BY\n",
        "    partner;\n"
      ],
      "metadata": {
        "colab": {
          "base_uri": "https://localhost:8080/"
        },
        "id": "f86fXD5fHAqt",
        "outputId": "5880add3-168f-4e93-aa73-aa8c8a3ac4ea"
      },
      "execution_count": null,
      "outputs": [
        {
          "output_type": "stream",
          "name": "stdout",
          "text": [
            " * sqlite:///practice.db\n",
            "Done.\n"
          ]
        },
        {
          "output_type": "execute_result",
          "data": {
            "text/plain": [
              "[]"
            ]
          },
          "metadata": {},
          "execution_count": 35
        }
      ]
    },
    {
      "cell_type": "code",
      "source": [
        "%%sql\n",
        "SELECT * FROM Partner_summary;\n"
      ],
      "metadata": {
        "colab": {
          "base_uri": "https://localhost:8080/",
          "height": 182
        },
        "id": "OAG1AybwHJ70",
        "outputId": "fb5601ce-15eb-4cc5-a015-8eca4ea42663"
      },
      "execution_count": null,
      "outputs": [
        {
          "output_type": "stream",
          "name": "stdout",
          "text": [
            " * sqlite:///practice.db\n",
            "Done.\n"
          ]
        },
        {
          "output_type": "execute_result",
          "data": {
            "text/plain": [
              "[('CESVI', 8, 3), ('IMC', 8, 4), ('IRC', 8, 4), ('NRC', 1, 2), ('SCI', 7, 4)]"
            ],
            "text/html": [
              "<table>\n",
              "    <thead>\n",
              "        <tr>\n",
              "            <th>Partner_Name</th>\n",
              "            <th>No_of_Villages_reached</th>\n",
              "            <th>No_of_Districts_reached</th>\n",
              "        </tr>\n",
              "    </thead>\n",
              "    <tbody>\n",
              "        <tr>\n",
              "            <td>CESVI</td>\n",
              "            <td>8</td>\n",
              "            <td>3</td>\n",
              "        </tr>\n",
              "        <tr>\n",
              "            <td>IMC</td>\n",
              "            <td>8</td>\n",
              "            <td>4</td>\n",
              "        </tr>\n",
              "        <tr>\n",
              "            <td>IRC</td>\n",
              "            <td>8</td>\n",
              "            <td>4</td>\n",
              "        </tr>\n",
              "        <tr>\n",
              "            <td>NRC</td>\n",
              "            <td>1</td>\n",
              "            <td>2</td>\n",
              "        </tr>\n",
              "        <tr>\n",
              "            <td>SCI</td>\n",
              "            <td>7</td>\n",
              "            <td>4</td>\n",
              "        </tr>\n",
              "    </tbody>\n",
              "</table>"
            ]
          },
          "metadata": {},
          "execution_count": 36
        }
      ]
    },
    {
      "cell_type": "markdown",
      "metadata": {
        "id": "UTGewFTanWGJ"
      },
      "source": [
        "SQL-Week-One-Practice\n",
        "Development actors and governments often deal with several sources of data that are stored in different places and in different formats. Part of A data analyst's work is helping clients manage their data assets and learn from the inter-connections. In this example, the client has asked you to extract data related to one of their programmes in Somalia, calculate key indicators from such data, and export it in a format that is used by their reporting platform.\n",
        "\n",
        "Create the following three database tables run tablegen.sql script\n",
        "Table\tDescription\n",
        "Village location\tWhere the projects are run and are associated with geographic coordinates\n",
        "Beneficiary Partner Data\tEach Partner records the number of projects in a subset of villages and records the number of beneficiaries\n",
        "Jurisdiction Hierachy\tVillage is the lowest then District then Region\n",
        "Please note that in the tablegen.sql script only 2 tables have been created, your first practice task will be to create the table to store the datapoints required, i.e partner_id, partner, village, beneficiaries, beneficiary_type.\n",
        "\n",
        "Write a SQL script that creates the following summary tables (can be tables or views):\n",
        "a) District_summary.\n",
        "\n",
        "i) District Name\n",
        "\n",
        "ii) Region Name\n",
        "\n",
        "iii) No. of Individual Beneficiaries (1HH = 6 Individuals)\n",
        "\n",
        "iv) No. of Individual Beneficiaries / Total District Population\n",
        "\n",
        "b) Partner_summary\n",
        "\n",
        "i) Partner Name\n",
        "\n",
        "ii) No. of Villages reached by partner\n",
        "\n",
        "iii) No. of Districts reached by partner"
      ]
    }
  ],
  "metadata": {
    "accelerator": "GPU",
    "colab": {
      "gpuType": "T4",
      "provenance": []
    },
    "kernelspec": {
      "display_name": "Python 3",
      "name": "python3"
    },
    "language_info": {
      "name": "python"
    }
  },
  "nbformat": 4,
  "nbformat_minor": 0
}