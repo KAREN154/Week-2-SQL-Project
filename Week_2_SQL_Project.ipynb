{
  "cells": [
    {
      "cell_type": "code",
      "execution_count": 2,
      "metadata": {
        "colab": {
          "base_uri": "https://localhost:8080/"
        },
        "id": "L6illSvq-tla",
        "outputId": "a2a9eea2-c6cd-4660-9057-bab97a4e135d"
      },
      "outputs": [
        {
          "output_type": "stream",
          "name": "stdout",
          "text": [
            "Collecting pymysql\n",
            "  Downloading PyMySQL-1.1.0-py3-none-any.whl (44 kB)\n",
            "\u001b[?25l     \u001b[90m━━━━━━━━━━━━━━━━━━━━━━━━━━━━━━━━━━━━━━━━\u001b[0m \u001b[32m0.0/44.8 kB\u001b[0m \u001b[31m?\u001b[0m eta \u001b[36m-:--:--\u001b[0m\r\u001b[2K     \u001b[91m━━━━━━━━━━━━━━━━━━━━━━━━━━━━━━━━━━━━\u001b[0m\u001b[91m╸\u001b[0m\u001b[90m━━━\u001b[0m \u001b[32m41.0/44.8 kB\u001b[0m \u001b[31m962.1 kB/s\u001b[0m eta \u001b[36m0:00:01\u001b[0m\r\u001b[2K     \u001b[90m━━━━━━━━━━━━━━━━━━━━━━━━━━━━━━━━━━━━━━━━\u001b[0m \u001b[32m44.8/44.8 kB\u001b[0m \u001b[31m782.2 kB/s\u001b[0m eta \u001b[36m0:00:00\u001b[0m\n",
            "\u001b[?25hInstalling collected packages: pymysql\n",
            "Successfully installed pymysql-1.1.0\n"
          ]
        }
      ],
      "source": [
        "!pip install pymysql\n"
      ]
    },
    {
      "cell_type": "code",
      "execution_count": 3,
      "metadata": {
        "id": "yuZnT3mm_0YC"
      },
      "outputs": [],
      "source": [
        "%load_ext sql\n"
      ]
    },
    {
      "cell_type": "code",
      "execution_count": 4,
      "metadata": {
        "id": "2Xo2QXCgAAdG"
      },
      "outputs": [],
      "source": [
        "%sql sqlite:///stud_db;\n",
        "\n",
        "\n"
      ]
    },
    {
      "cell_type": "code",
      "execution_count": 5,
      "metadata": {
        "colab": {
          "base_uri": "https://localhost:8080/"
        },
        "id": "aImDtsT4CWGb",
        "outputId": "34132a2e-9f7e-4c25-f824-28f313368495"
      },
      "outputs": [
        {
          "output_type": "stream",
          "name": "stdout",
          "text": [
            " * sqlite:///stud_db;\n",
            "Done.\n"
          ]
        },
        {
          "output_type": "execute_result",
          "data": {
            "text/plain": [
              "[]"
            ]
          },
          "metadata": {},
          "execution_count": 5
        }
      ],
      "source": [
        "%%sql\n",
        "CREATE TABLE personal_details (\n",
        "national_ID INTEGER(15) ,\n",
        "stud_ID VARCHAR(15),\n",
        "stud_name VARCHAR(100),\n",
        "phone_number VARCHAR(15),\n",
        "age INTEGER, gender VARCHAR(10),\n",
        "PRIMARY KEY(national_ID)\n",
        ");"
      ]
    },
    {
      "cell_type": "code",
      "execution_count": 6,
      "metadata": {
        "colab": {
          "base_uri": "https://localhost:8080/"
        },
        "id": "OSIpiN8YCWVg",
        "outputId": "445cd3e2-b276-4c8f-8e83-47a87e1e3854"
      },
      "outputs": [
        {
          "output_type": "stream",
          "name": "stdout",
          "text": [
            " * sqlite:///stud_db;\n",
            "15 rows affected.\n"
          ]
        },
        {
          "output_type": "execute_result",
          "data": {
            "text/plain": [
              "[]"
            ]
          },
          "metadata": {},
          "execution_count": 6
        }
      ],
      "source": [
        "%%sql\n",
        "INSERT INTO personal_details (national_ID,stud_ID,stud_name,phone_number,age,gender)\n",
        "VALUES(\"344534\",\"stud101\",\"Hermione Granger\" ,\"0712345678\",20,\"Male\"),\n",
        "(\"379683\",\"stud102\",\"Draco Malfo\" ,\"0723456781\",21,\"Female\"),\n",
        "(\"347403\",\"stud103\",\"Jayden Wamashati\" ,\"0734567812\",22,\"Male\"),\n",
        "(\"377302\",\"stud104\",\"Ron Weasley\" ,\"0745678123\",19,\"Female\"),\n",
        "(\"336741\",\"stud105\",\"Dolores Umbridge\" ,\"0756781234\",21,\"Male\"),\n",
        "(\"307243\",\"stud106\",\"Hedwig Tonks\" ,\"0767812345\",21,\"Female\"),\n",
        "(\"310932\",\"stud107\",\"Chao Chang\" ,\"0778123456\",22,\"Male\"),\n",
        "(\"343920\",\"stud108\",\"Curfew Yaeitpm\" ,\"0781234567\",20,\"Female\"),\n",
        "(\"345261\",\"stud109\",\"Chaptr Mukenya\" ,\"0722345678\",20,\"Male\"),\n",
        "(\"339152\",\"stud110\",\"Natalie Mpema\" ,\"0733456781\",21,\"Female\"),\n",
        "(\"339746\",\"stud111\",\"Crew Nundi\" ,\"0744567812\",20,\"Male\"),\n",
        "(\"336373\",\"stud112\",\"Bandi Kagunda\" ,\"0755678123\",22,\"Female\"),\n",
        "(\"325252\",\"stud113\",\"Testimony Omolo\" ,\"0766456781\",21,\"Male\"),\n",
        "(\"321746\",\"stud114\",\"Career Mpya\" ,\"0741367812\",20,\"Male\"),\n",
        "(\"390234\",\"stud115\",\"Deamon Anduro\" ,\"0744421123\",22,\"Female\");"
      ]
    },
    {
      "cell_type": "code",
      "execution_count": 7,
      "metadata": {
        "colab": {
          "base_uri": "https://localhost:8080/"
        },
        "id": "KiNJsWvjJRWz",
        "outputId": "48376222-64bf-48d2-b29e-a066274a44aa"
      },
      "outputs": [
        {
          "output_type": "stream",
          "name": "stdout",
          "text": [
            " * sqlite:///stud_db;\n",
            "Done.\n"
          ]
        },
        {
          "output_type": "execute_result",
          "data": {
            "text/plain": [
              "[]"
            ]
          },
          "metadata": {},
          "execution_count": 7
        }
      ],
      "source": [
        "%%sql\n",
        "CREATE TABLE school_details(\n",
        "stud_ID VARCHAR(15),\n",
        "current_home_county VARCHAR(20),\n",
        "secondary_school_county VARCHAR(20),\n",
        "residence VARCHAR(15),\n",
        "stud_email VARCHAR(50),\n",
        "PRIMARY KEY (stud_ID)  );"
      ]
    },
    {
      "cell_type": "code",
      "execution_count": 8,
      "metadata": {
        "colab": {
          "base_uri": "https://localhost:8080/"
        },
        "id": "YaKcuufxJo2h",
        "outputId": "7cff3dba-85a3-4f00-ac8a-a65d11b7ca29"
      },
      "outputs": [
        {
          "output_type": "stream",
          "name": "stdout",
          "text": [
            " * sqlite:///stud_db;\n",
            "15 rows affected.\n"
          ]
        },
        {
          "output_type": "execute_result",
          "data": {
            "text/plain": [
              "[]"
            ]
          },
          "metadata": {},
          "execution_count": 8
        }
      ],
      "source": [
        "%%sql\n",
        "INSERT INTO school_details(stud_ID)\n",
        "SELECT stud_ID\n",
        "FROM personal_details;"
      ]
    },
    {
      "cell_type": "code",
      "source": [
        "%%sql\n",
        "UPDATE school_details\n",
        "SET stud_email = (SELECT REPLACE(stud_name, ' ', '') || '@zinduaschool.ac'\n",
        "                  FROM personal_details\n",
        "                  WHERE school_details.stud_ID = personal_details.stud_ID);\n"
      ],
      "metadata": {
        "colab": {
          "base_uri": "https://localhost:8080/"
        },
        "id": "SuCr2E3nEACl",
        "outputId": "b57b1809-d642-4ff4-800d-7acb7987a89e"
      },
      "execution_count": 9,
      "outputs": [
        {
          "output_type": "stream",
          "name": "stdout",
          "text": [
            " * sqlite:///stud_db;\n",
            "15 rows affected.\n"
          ]
        },
        {
          "output_type": "execute_result",
          "data": {
            "text/plain": [
              "[]"
            ]
          },
          "metadata": {},
          "execution_count": 9
        }
      ]
    },
    {
      "cell_type": "code",
      "source": [
        "%%sql\n",
        "UPDATE school_details SET current_home_county=\"Nakuru\", secondary_school_county=\"Nairobi\", residence=\"In school\" WHERE stud_ID=\"stud101\";\n",
        "UPDATE school_details SET current_home_county=\"Nairobi\", secondary_school_county=\"Nakuru\", residence=\"In school\" WHERE stud_ID=\"stud102\";\n",
        "UPDATE school_details SET current_home_county=\"Samburu\", secondary_school_county=\"Nairobi\", residence=\"Out of school\" WHERE stud_ID=\"stud103\";\n",
        "UPDATE school_details SET current_home_county=\"Kericho\", secondary_school_county=\"Nairobi\", residence=\"In school\" WHERE stud_ID=\"stud104\";\n",
        "UPDATE school_details SET current_home_county=\"Nyamira\", secondary_school_county=\"Nakuru\", residence=\"In school\" WHERE stud_ID=\"stud105\";\n",
        "UPDATE school_details SET current_home_county=\"Kisumu\", secondary_school_county=\"Nairobi\", residence=\"Out of school\" WHERE stud_ID=\"stud106\";\n",
        "UPDATE school_details SET current_home_county=\"Nakuru\", secondary_school_county=\"Nairobi\", residence=\"Out of school\" WHERE stud_ID=\"stud107\";\n",
        "UPDATE school_details SET current_home_county=\"Kisumu\", secondary_school_county=\"Mombasa\", residence=\"Out of school\" WHERE stud_ID=\"stud108\";\n",
        "UPDATE school_details SET current_home_county=\"Kericho\", secondary_school_county=\"Mombasa\", residence=\"In school\" WHERE stud_ID=\"stud109\";\n",
        "UPDATE school_details SET current_home_county=\"Nakuru\", secondary_school_county=\"Mombasa\", residence=\"In school\" WHERE stud_ID=\"stud110\";\n",
        "UPDATE school_details SET current_home_county=\"Kiambu\", secondary_school_county=\"Turkana\", residence=\"In school\" WHERE stud_ID=\"stud111\";\n",
        "UPDATE school_details SET current_home_county=\"Nairobi\", secondary_school_county=\"Nakuru\", residence=\"In school\" WHERE stud_ID=\"stud112\";\n",
        "UPDATE school_details SET current_home_county=\"Samburu\", secondary_school_county=\"Taita Taveta\", residence=\"In school\" WHERE stud_ID=\"stud113\";\n",
        "UPDATE school_details SET current_home_county=\"Kericho\", secondary_school_county=\"Nairobi\", residence=\"Out of school\" WHERE stud_ID=\"stud114\";\n",
        "UPDATE school_details SET current_home_county=\"Kiambu\", secondary_school_county=\"Mombasa\", residence=\"In school\" WHERE stud_ID=\"stud115\";\n"
      ],
      "metadata": {
        "colab": {
          "base_uri": "https://localhost:8080/"
        },
        "id": "42IZJaRiDaGd",
        "outputId": "9a49f41e-4009-4039-9d59-e1115e5c273e"
      },
      "execution_count": 10,
      "outputs": [
        {
          "output_type": "stream",
          "name": "stdout",
          "text": [
            " * sqlite:///stud_db;\n",
            "1 rows affected.\n",
            "1 rows affected.\n",
            "1 rows affected.\n",
            "1 rows affected.\n",
            "1 rows affected.\n",
            "1 rows affected.\n",
            "1 rows affected.\n",
            "1 rows affected.\n",
            "1 rows affected.\n",
            "1 rows affected.\n",
            "1 rows affected.\n",
            "1 rows affected.\n",
            "1 rows affected.\n",
            "1 rows affected.\n",
            "1 rows affected.\n"
          ]
        },
        {
          "output_type": "execute_result",
          "data": {
            "text/plain": [
              "[]"
            ]
          },
          "metadata": {},
          "execution_count": 10
        }
      ]
    },
    {
      "cell_type": "code",
      "source": [
        "%%sql\n",
        "CREATE TABLE contact_details (\n",
        "stud_email VARCHAR(50) ,\n",
        "phone_number VARCHAR(15),\n",
        "next_of_kin_name VARCHAR(50),\n",
        "next_of_kin_relation VARCHAR(10),\n",
        "next_of_kin_contacts VARCHAR(13)\n",
        ");"
      ],
      "metadata": {
        "colab": {
          "base_uri": "https://localhost:8080/"
        },
        "id": "yfv8byj8DZyN",
        "outputId": "e3710d0c-5291-424b-8025-96674d755b0b"
      },
      "execution_count": 11,
      "outputs": [
        {
          "output_type": "stream",
          "name": "stdout",
          "text": [
            " * sqlite:///stud_db;\n",
            "Done.\n"
          ]
        },
        {
          "output_type": "execute_result",
          "data": {
            "text/plain": [
              "[]"
            ]
          },
          "metadata": {},
          "execution_count": 11
        }
      ]
    },
    {
      "cell_type": "code",
      "source": [
        "%%sql\n",
        "INSERT INTO contact_details(phone_number, next_of_kin_name,next_of_kin_relation,next_of_kin_contacts)\n",
        "VALUES(\"0712345678\",\"Darius Young\",\"Father\",\"0782382383\"),\n",
        "(\"0723456781\",\"Lucy Nderitu\",\"Mother\",\"0723238983\"),\n",
        "(\"0734567812\",\"Jerotich Koech\",\"Mother\",\"0779343126\"),\n",
        "(\"0745678123\",\"Mwaura Mwangi\",\"Father\",\"0798246347\"),\n",
        "(\"0756781234\",\"Ian Patrick\",\"Father\",\"0711234453\"),\n",
        "(\"0767812345\",\"Lebron James\",\"Father\",\"0765439233\"),\n",
        "(\"0778123456\",\"Magna Carter\",\"Father\",\"0702526243\"),\n",
        "(\"0781234567\",\"Cindy Wayne\",\"Mother\",\"0747282839\"),\n",
        "(\"0722345678\",\"Farah Maalim\",\"Mother\",\"0753927482\"),\n",
        "(\"0733456781\",\"Faiba Mbugua\",\"Father\",\"0713245748\"),\n",
        "(\"0744567812\",\"John Doe\",\"Father\",\"0725737383\"),\n",
        "(\"0755678123\",\"Klaus Michealson\",\"Father\",\"0789346276\"),\n",
        "(\"0766456781\",\"Suluhu Amdany\",\"Mother\",\"0785739259\"),\n",
        "(\"0741367812\",\"Daisy Auma\",\"Mother\",\"0791344537\"),\n",
        "(\"0755421123\",\"Getrude Karen\",\"Mother\",\"0765748244\");"
      ],
      "metadata": {
        "colab": {
          "base_uri": "https://localhost:8080/"
        },
        "id": "yqWzYpGXDQUY",
        "outputId": "063e6297-b0aa-4d1b-f131-3f82df1a72ea"
      },
      "execution_count": 12,
      "outputs": [
        {
          "output_type": "stream",
          "name": "stdout",
          "text": [
            " * sqlite:///stud_db;\n",
            "15 rows affected.\n"
          ]
        },
        {
          "output_type": "execute_result",
          "data": {
            "text/plain": [
              "[]"
            ]
          },
          "metadata": {},
          "execution_count": 12
        }
      ]
    },
    {
      "cell_type": "code",
      "source": [
        "%%sql\n",
        "UPDATE contact_details\n",
        "SET stud_email = (SELECT school_details.stud_email\n",
        "FROM school_details, personal_details\n",
        "WHERE school_details.stud_ID = personal_details.stud_ID\n",
        "AND personal_details.phone_number = contact_details.phone_number);\n"
      ],
      "metadata": {
        "colab": {
          "base_uri": "https://localhost:8080/"
        },
        "id": "2VbwNFbLC3cQ",
        "outputId": "d2f5cd97-5d6f-4d90-b056-f5c14481b72e"
      },
      "execution_count": 13,
      "outputs": [
        {
          "output_type": "stream",
          "name": "stdout",
          "text": [
            " * sqlite:///stud_db;\n",
            "15 rows affected.\n"
          ]
        },
        {
          "output_type": "execute_result",
          "data": {
            "text/plain": [
              "[]"
            ]
          },
          "metadata": {},
          "execution_count": 13
        }
      ]
    },
    {
      "cell_type": "code",
      "source": [
        "%%sql\n",
        "DROP TABLE contact_details_new;\n",
        "\n"
      ],
      "metadata": {
        "colab": {
          "base_uri": "https://localhost:8080/"
        },
        "id": "ecJijmhsPRz8",
        "outputId": "b7a8b981-549b-4029-d179-f048023971a8"
      },
      "execution_count": 14,
      "outputs": [
        {
          "output_type": "stream",
          "name": "stdout",
          "text": [
            " * sqlite:///stud_db;\n",
            "(sqlite3.OperationalError) no such table: contact_details_new\n",
            "[SQL: DROP TABLE contact_details_new;]\n",
            "(Background on this error at: https://sqlalche.me/e/20/e3q8)\n"
          ]
        }
      ]
    },
    {
      "cell_type": "code",
      "source": [
        "%%sql\n",
        "CREATE TABLE contact_details_new (\n",
        "stud_email VARCHAR(50) ,\n",
        "phone_number VARCHAR(15),\n",
        "next_of_kin_name VARCHAR(50),\n",
        "next_of_kin_relation VARCHAR(10),\n",
        "next_of_kin_contacts VARCHAR(13)\n",
        ");\n",
        "\n"
      ],
      "metadata": {
        "colab": {
          "base_uri": "https://localhost:8080/"
        },
        "id": "jCEAuO_BS_qH",
        "outputId": "daa517d8-a258-4f00-c328-0d40972cf9d2"
      },
      "execution_count": 15,
      "outputs": [
        {
          "output_type": "stream",
          "name": "stdout",
          "text": [
            " * sqlite:///stud_db;\n",
            "Done.\n"
          ]
        },
        {
          "output_type": "execute_result",
          "data": {
            "text/plain": [
              "[]"
            ]
          },
          "metadata": {},
          "execution_count": 15
        }
      ]
    },
    {
      "cell_type": "code",
      "source": [
        "%%sql\n",
        "INSERT INTO contact_details_new (stud_email, phone_number,next_of_kin_relation , next_of_kin_contacts)\n",
        "SELECT stud_email, phone_number,next_of_kin_relation , next_of_kin_contacts\n",
        "FROM contact_details;"
      ],
      "metadata": {
        "colab": {
          "base_uri": "https://localhost:8080/"
        },
        "id": "gOmK6jp_Qg_6",
        "outputId": "11e31258-3059-48fe-afa3-4e8b3ff7f718"
      },
      "execution_count": 16,
      "outputs": [
        {
          "output_type": "stream",
          "name": "stdout",
          "text": [
            " * sqlite:///stud_db;\n",
            "15 rows affected.\n"
          ]
        },
        {
          "output_type": "execute_result",
          "data": {
            "text/plain": [
              "[]"
            ]
          },
          "metadata": {},
          "execution_count": 16
        }
      ]
    },
    {
      "cell_type": "code",
      "source": [
        "%%sql\n",
        "DROP TABLE contact_details;"
      ],
      "metadata": {
        "colab": {
          "base_uri": "https://localhost:8080/"
        },
        "id": "qerdqJ0GC3PS",
        "outputId": "2e46f68b-3e23-4e55-9567-8af80aa5144c"
      },
      "execution_count": 17,
      "outputs": [
        {
          "output_type": "stream",
          "name": "stdout",
          "text": [
            " * sqlite:///stud_db;\n",
            "Done.\n"
          ]
        },
        {
          "output_type": "execute_result",
          "data": {
            "text/plain": [
              "[]"
            ]
          },
          "metadata": {},
          "execution_count": 17
        }
      ]
    },
    {
      "cell_type": "code",
      "source": [
        "%%sql\n",
        "ALTER TABLE contact_details_new RENAME TO contact_details;\n"
      ],
      "metadata": {
        "colab": {
          "base_uri": "https://localhost:8080/"
        },
        "id": "9hwsYfMrTEoC",
        "outputId": "5f634459-02f1-4e1d-c5da-16eb7cc5efdc"
      },
      "execution_count": 18,
      "outputs": [
        {
          "output_type": "stream",
          "name": "stdout",
          "text": [
            " * sqlite:///stud_db;\n",
            "Done.\n"
          ]
        },
        {
          "output_type": "execute_result",
          "data": {
            "text/plain": [
              "[]"
            ]
          },
          "metadata": {},
          "execution_count": 18
        }
      ]
    },
    {
      "cell_type": "code",
      "source": [
        "%%sql\n",
        "CREATE TABLE financial_details (\n",
        "stud_ID VARCHAR(15) ,\n",
        "stud_name VARCHAR(50) ,\n",
        "sem_fee INTEGER(6) ,\n",
        "fee_paid INTEGER(6),\n",
        "PRIMARY KEY(stud_ID) );\n",
        "\n"
      ],
      "metadata": {
        "colab": {
          "base_uri": "https://localhost:8080/"
        },
        "id": "w2f1iKOoC27v",
        "outputId": "f84246b7-0d10-49b5-cc4c-3f1763837400"
      },
      "execution_count": 19,
      "outputs": [
        {
          "output_type": "stream",
          "name": "stdout",
          "text": [
            " * sqlite:///stud_db;\n",
            "Done.\n"
          ]
        },
        {
          "output_type": "execute_result",
          "data": {
            "text/plain": [
              "[]"
            ]
          },
          "metadata": {},
          "execution_count": 19
        }
      ]
    },
    {
      "cell_type": "code",
      "source": [
        "%%sql\n",
        "INSERT INTO financial_details(stud_ID,stud_name)\n",
        "SELECT personal_details.stud_ID, personal_details.stud_name\n",
        "FROM personal_details;\n"
      ],
      "metadata": {
        "colab": {
          "base_uri": "https://localhost:8080/"
        },
        "id": "isdl3KJoCVzw",
        "outputId": "10189d13-476b-4dce-b809-a2c8dd359cee"
      },
      "execution_count": 20,
      "outputs": [
        {
          "output_type": "stream",
          "name": "stdout",
          "text": [
            " * sqlite:///stud_db;\n",
            "15 rows affected.\n"
          ]
        },
        {
          "output_type": "execute_result",
          "data": {
            "text/plain": [
              "[]"
            ]
          },
          "metadata": {},
          "execution_count": 20
        }
      ]
    },
    {
      "cell_type": "code",
      "source": [
        "%%sql\n",
        "UPDATE financial_details SET sem_fee = 25000, fee_paid=25000 WHERE stud_ID = \"stud101\";\n",
        "UPDATE financial_details SET sem_fee= 25000, fee_paid=19000 WHERE stud_ID = \"stud102\";\n",
        "UPDATE financial_details SET sem_fee= 21900, fee_paid=20000 WHERE stud_ID = \"stud103\";\n",
        "UPDATE financial_details SET sem_fee= 22000, fee_paid=22000 WHERE stud_ID = \"stud104\";\n",
        "UPDATE financial_details SET sem_fee= 25000, fee_paid=23400 WHERE stud_ID = \"stud105\";\n",
        "UPDATE financial_details SET sem_fee= 25000, fee_paid=27000 WHERE stud_ID = \"stud106\";\n",
        "UPDATE financial_details SET sem_fee= 24230, fee_paid=21200 WHERE stud_ID = \"stud107\";\n",
        "UPDATE financial_details SET sem_fee= 25000, fee_paid=23500 WHERE stud_ID = \"stud108\";\n",
        "UPDATE financial_details SET sem_fee= 25000, fee_paid=24500 WHERE stud_ID = \"stud109\";\n",
        "UPDATE financial_details SET sem_fee= 25000, fee_paid=25000 WHERE stud_ID = \"stud110\";\n",
        "UPDATE financial_details SET sem_fee= 26000, fee_paid=26000 WHERE stud_ID = \"stud111\";\n",
        "UPDATE financial_details SET sem_fee= 25000, fee_paid=20900 WHERE stud_ID = \"stud112\";\n",
        "UPDATE financial_details SET sem_fee= 25000, fee_paid=22300 WHERE stud_ID = \"stud113\";\n",
        "UPDATE financial_details SET sem_fee= 19000, fee_paid=19000 WHERE stud_ID = \"stud114\";\n",
        "UPDATE financial_details SET sem_fee= 20800, fee_paid=20800 WHERE stud_ID = \"stud115\";"
      ],
      "metadata": {
        "colab": {
          "base_uri": "https://localhost:8080/"
        },
        "id": "iKOYepJ8CWmd",
        "outputId": "9cfcd5b1-a465-4ad3-f90b-ef0b0744a638"
      },
      "execution_count": 21,
      "outputs": [
        {
          "output_type": "stream",
          "name": "stdout",
          "text": [
            " * sqlite:///stud_db;\n",
            "1 rows affected.\n",
            "1 rows affected.\n",
            "1 rows affected.\n",
            "1 rows affected.\n",
            "1 rows affected.\n",
            "1 rows affected.\n",
            "1 rows affected.\n",
            "1 rows affected.\n",
            "1 rows affected.\n",
            "1 rows affected.\n",
            "1 rows affected.\n",
            "1 rows affected.\n",
            "1 rows affected.\n",
            "1 rows affected.\n",
            "1 rows affected.\n"
          ]
        },
        {
          "output_type": "execute_result",
          "data": {
            "text/plain": [
              "[]"
            ]
          },
          "metadata": {},
          "execution_count": 21
        }
      ]
    },
    {
      "cell_type": "markdown",
      "source": [
        "a. Using JOIN get the student names, school id, email, phone number (new_stud_details)\n"
      ],
      "metadata": {
        "id": "9Qy9A7uMHedY"
      }
    },
    {
      "cell_type": "markdown",
      "source": [
        "CROSS JOINING WHERE TABLE 2 DOESNT HAVE A COMMON COLUMN WITH TABLE 1\n",
        "SYNTAX BEING\n",
        "FROM table1\n",
        "CROSS JOIN table2\n",
        "WHERE table1.columnX = table2.columnY;"
      ],
      "metadata": {
        "id": "oq7NfmlYN2aF"
      }
    },
    {
      "cell_type": "code",
      "source": [
        "%%sql\n",
        "CREATE TABLE new_stud_details AS\n",
        "SELECT\n",
        "personal_details.stud_ID AS school_ID ,\n",
        "personal_details.stud_name AS stud_name,\n",
        "personal_details.phone_number AS phone_number,\n",
        "school_details.stud_email AS email\n",
        "FROM personal_details\n",
        "CROSS JOIN school_details\n",
        "WHERE personal_details.stud_ID = school_details.stud_email;\n",
        "\n"
      ],
      "metadata": {
        "colab": {
          "base_uri": "https://localhost:8080/"
        },
        "id": "NSP2wvESI-Qn",
        "outputId": "56bd9703-859a-4adc-b0be-cda10851c59b"
      },
      "execution_count": 22,
      "outputs": [
        {
          "output_type": "stream",
          "name": "stdout",
          "text": [
            " * sqlite:///stud_db;\n",
            "Done.\n"
          ]
        },
        {
          "output_type": "execute_result",
          "data": {
            "text/plain": [
              "[]"
            ]
          },
          "metadata": {},
          "execution_count": 22
        }
      ]
    },
    {
      "cell_type": "markdown",
      "source": [
        "b. Create a table with all the details from contacts to school and financial details (full_stud_details)\n"
      ],
      "metadata": {
        "id": "5M9_BNB-HXrd"
      }
    },
    {
      "cell_type": "code",
      "source": [
        "%%sql\n",
        "CREATE TABLE full_stud_details AS\n",
        "SELECT *\n",
        "FROM school_details\n",
        "LEFT JOIN financial_details ON school_details.stud_ID = financial_details.stud_ID\n",
        "LEFT JOIN contact_details ON school_details.stud_email = contact_details.stud_email\n",
        "\n",
        "UNION ALL\n",
        "\n",
        "SELECT *\n",
        "FROM financial_details\n",
        "LEFT JOIN school_details ON financial_details.stud_ID= school_details.stud_ID\n",
        "CROSS JOIN contact_details ON financial_details.stud_ID = contact_details.stud_email\n",
        "\n",
        "UNION ALL\n",
        "\n",
        "SELECT *\n",
        "FROM contact_details\n",
        "CROSS JOIN financial_details ON contact_details.stud_email= financial_details.stud_ID\n",
        "LEFT JOIN school_details ON contact_details.stud_email = school_details.stud_email\n",
        ";\n"
      ],
      "metadata": {
        "colab": {
          "base_uri": "https://localhost:8080/"
        },
        "id": "bsRpTlgjOPTf",
        "outputId": "f445aa77-7016-4c2b-e79d-1794e1ab80dc"
      },
      "execution_count": 25,
      "outputs": [
        {
          "output_type": "stream",
          "name": "stdout",
          "text": [
            " * sqlite:///stud_db;\n",
            "Done.\n"
          ]
        },
        {
          "output_type": "execute_result",
          "data": {
            "text/plain": [
              "[]"
            ]
          },
          "metadata": {},
          "execution_count": 25
        }
      ]
    },
    {
      "cell_type": "markdown",
      "source": [
        "c. Add student names on any empty row of stud_name in financial_details\n"
      ],
      "metadata": {
        "id": "No4vWNFR9N2p"
      }
    },
    {
      "cell_type": "code",
      "source": [
        "%%sql\n",
        "UPDATE financial_details\n",
        "SET stud_name = (\n",
        "    SELECT personal_details.stud_name\n",
        "    FROM personal_details\n",
        "    WHERE financial_details.stud_ID = personal_details.stud_ID\n",
        ")\n",
        "WHERE stud_name IS NULL;\n",
        "\n"
      ],
      "metadata": {
        "colab": {
          "base_uri": "https://localhost:8080/"
        },
        "id": "_0hLcXrfyyFe",
        "outputId": "c059375b-2a90-48e4-ebf6-e945d23876ed"
      },
      "execution_count": 27,
      "outputs": [
        {
          "output_type": "stream",
          "name": "stdout",
          "text": [
            " * sqlite:///stud_db;\n",
            "0 rows affected.\n"
          ]
        },
        {
          "output_type": "execute_result",
          "data": {
            "text/plain": [
              "[]"
            ]
          },
          "metadata": {},
          "execution_count": 27
        }
      ]
    },
    {
      "cell_type": "markdown",
      "source": [
        "d. On the financial_details table add a column, fee_cleared, that has True if student has cleared current fee and False if not (financial_details_view)\n"
      ],
      "metadata": {
        "id": "1e0dS8dt9WM5"
      }
    },
    {
      "cell_type": "code",
      "source": [
        "%%sql\n",
        "ALTER TABLE financial_details\n",
        "ADD COLUMN fee_cleared BOOLEAN;"
      ],
      "metadata": {
        "colab": {
          "base_uri": "https://localhost:8080/"
        },
        "id": "DpZsLaZV5R9V",
        "outputId": "a664b1ca-5bd7-41d9-d0e4-18657fc79c2d"
      },
      "execution_count": 34,
      "outputs": [
        {
          "output_type": "stream",
          "name": "stdout",
          "text": [
            " * sqlite:///stud_db;\n",
            "Done.\n"
          ]
        },
        {
          "output_type": "execute_result",
          "data": {
            "text/plain": [
              "[]"
            ]
          },
          "metadata": {},
          "execution_count": 34
        }
      ]
    },
    {
      "cell_type": "code",
      "source": [
        "%%sql\n",
        "UPDATE financial_details\n",
        "SET fee_cleared =\n",
        "    CASE\n",
        "        WHEN sem_fee <= fee_paid THEN true\n",
        "        ELSE false\n",
        "    END;\n"
      ],
      "metadata": {
        "colab": {
          "base_uri": "https://localhost:8080/"
        },
        "id": "c4m-gBnt3y4N",
        "outputId": "75de2c7f-ec78-47b2-d73e-6fb9d5882b1e"
      },
      "execution_count": 37,
      "outputs": [
        {
          "output_type": "stream",
          "name": "stdout",
          "text": [
            " * sqlite:///stud_db;\n",
            "15 rows affected.\n"
          ]
        },
        {
          "output_type": "execute_result",
          "data": {
            "text/plain": [
              "[]"
            ]
          },
          "metadata": {},
          "execution_count": 37
        }
      ]
    },
    {
      "cell_type": "code",
      "source": [
        "%%sql\n",
        "CREATE VIEW financial_details_view AS\n",
        "SELECT pd.national_ID, fd.stud_name\n",
        "\n",
        "FROM personal_details pd\n",
        "JOIN financial_details fd ON pd.stud_ID = fd.stud_ID\n",
        "WHERE fd.fee_cleared = 1;\n"
      ],
      "metadata": {
        "colab": {
          "base_uri": "https://localhost:8080/"
        },
        "id": "Qy2OJ_Nq-t-5",
        "outputId": "49b1292b-3389-4a30-f6d5-c8b3bfe109b9"
      },
      "execution_count": 41,
      "outputs": [
        {
          "output_type": "stream",
          "name": "stdout",
          "text": [
            " * sqlite:///stud_db;\n",
            "Done.\n"
          ]
        },
        {
          "output_type": "execute_result",
          "data": {
            "text/plain": [
              "[]"
            ]
          },
          "metadata": {},
          "execution_count": 41
        }
      ]
    },
    {
      "cell_type": "markdown",
      "source": [
        "e. Get the national ID and name of all students who have cleared their fees (fee_cleared)"
      ],
      "metadata": {
        "id": "4E0R3lXv9CfP"
      }
    },
    {
      "cell_type": "code",
      "source": [
        "%%sql\n",
        "SELECT pd.national_ID, fd.stud_name\n",
        "FROM personal_details pd\n",
        "JOIN financial_details fd ON pd.stud_ID = fd.stud_ID\n",
        "WHERE fd.fee_cleared = 1;\n"
      ],
      "metadata": {
        "colab": {
          "base_uri": "https://localhost:8080/",
          "height": 225
        },
        "id": "3eIUSAc-6o_3",
        "outputId": "b0a7f7cd-801d-46a9-a9f9-b7fb962071f0"
      },
      "execution_count": 40,
      "outputs": [
        {
          "output_type": "stream",
          "name": "stdout",
          "text": [
            " * sqlite:///stud_db;\n",
            "Done.\n"
          ]
        },
        {
          "output_type": "execute_result",
          "data": {
            "text/plain": [
              "[(344534, 'Hermione Granger'),\n",
              " (377302, 'Ron Weasley'),\n",
              " (307243, 'Hedwig Tonks'),\n",
              " (339152, 'Natalie Mpema'),\n",
              " (339746, 'Crew Nundi'),\n",
              " (321746, 'Career Mpya'),\n",
              " (390234, 'Deamon Anduro')]"
            ],
            "text/html": [
              "<table>\n",
              "    <thead>\n",
              "        <tr>\n",
              "            <th>national_ID</th>\n",
              "            <th>stud_name</th>\n",
              "        </tr>\n",
              "    </thead>\n",
              "    <tbody>\n",
              "        <tr>\n",
              "            <td>344534</td>\n",
              "            <td>Hermione Granger</td>\n",
              "        </tr>\n",
              "        <tr>\n",
              "            <td>377302</td>\n",
              "            <td>Ron Weasley</td>\n",
              "        </tr>\n",
              "        <tr>\n",
              "            <td>307243</td>\n",
              "            <td>Hedwig Tonks</td>\n",
              "        </tr>\n",
              "        <tr>\n",
              "            <td>339152</td>\n",
              "            <td>Natalie Mpema</td>\n",
              "        </tr>\n",
              "        <tr>\n",
              "            <td>339746</td>\n",
              "            <td>Crew Nundi</td>\n",
              "        </tr>\n",
              "        <tr>\n",
              "            <td>321746</td>\n",
              "            <td>Career Mpya</td>\n",
              "        </tr>\n",
              "        <tr>\n",
              "            <td>390234</td>\n",
              "            <td>Deamon Anduro</td>\n",
              "        </tr>\n",
              "    </tbody>\n",
              "</table>"
            ]
          },
          "metadata": {},
          "execution_count": 40
        }
      ]
    },
    {
      "cell_type": "markdown",
      "source": [
        "f. Get the total sum of fees paid so far and the total current deficit (total_fee_balance)\n"
      ],
      "metadata": {
        "id": "Or6wR9AoAbQM"
      }
    },
    {
      "cell_type": "code",
      "source": [
        "%%sql\n",
        "SELECT\n",
        "    SUM(fee_paid) AS total_fees_paid,\n",
        "    SUM(sem_fee) - SUM(fee_paid) AS total_current_deficit\n",
        "FROM\n",
        "    financial_details;\n"
      ],
      "metadata": {
        "colab": {
          "base_uri": "https://localhost:8080/",
          "height": 96
        },
        "id": "RpR2Lbu79AgJ",
        "outputId": "8f825d61-2e67-42fa-9820-42d6081961b4"
      },
      "execution_count": 42,
      "outputs": [
        {
          "output_type": "stream",
          "name": "stdout",
          "text": [
            " * sqlite:///stud_db;\n",
            "Done.\n"
          ]
        },
        {
          "output_type": "execute_result",
          "data": {
            "text/plain": [
              "[(339600, 19330)]"
            ],
            "text/html": [
              "<table>\n",
              "    <thead>\n",
              "        <tr>\n",
              "            <th>total_fees_paid</th>\n",
              "            <th>total_current_deficit</th>\n",
              "        </tr>\n",
              "    </thead>\n",
              "    <tbody>\n",
              "        <tr>\n",
              "            <td>339600</td>\n",
              "            <td>19330</td>\n",
              "        </tr>\n",
              "    </tbody>\n",
              "</table>"
            ]
          },
          "metadata": {},
          "execution_count": 42
        }
      ]
    },
    {
      "cell_type": "markdown",
      "source": [
        "g. Get the count of students who share a current home county i.e., Say Nairobi, get the number of students who’s current_home_county is Nairobi, and so on for all available counties (home_county_count)\n"
      ],
      "metadata": {
        "id": "jdf6NNA4Dryy"
      }
    },
    {
      "cell_type": "code",
      "source": [
        "%%sql\n",
        "SELECT current_home_county, COUNT(*) AS county_count\n",
        "FROM school_details\n",
        "GROUP BY current_home_county;\n"
      ],
      "metadata": {
        "colab": {
          "base_uri": "https://localhost:8080/",
          "height": 225
        },
        "id": "VNhUtGngC5a7",
        "outputId": "c623d0d2-710c-4b89-dd4d-40cec2ef9b17"
      },
      "execution_count": 43,
      "outputs": [
        {
          "output_type": "stream",
          "name": "stdout",
          "text": [
            " * sqlite:///stud_db;\n",
            "Done.\n"
          ]
        },
        {
          "output_type": "execute_result",
          "data": {
            "text/plain": [
              "[('Kericho', 3),\n",
              " ('Kiambu', 2),\n",
              " ('Kisumu', 2),\n",
              " ('Nairobi', 2),\n",
              " ('Nakuru', 3),\n",
              " ('Nyamira', 1),\n",
              " ('Samburu', 2)]"
            ],
            "text/html": [
              "<table>\n",
              "    <thead>\n",
              "        <tr>\n",
              "            <th>current_home_county</th>\n",
              "            <th>county_count</th>\n",
              "        </tr>\n",
              "    </thead>\n",
              "    <tbody>\n",
              "        <tr>\n",
              "            <td>Kericho</td>\n",
              "            <td>3</td>\n",
              "        </tr>\n",
              "        <tr>\n",
              "            <td>Kiambu</td>\n",
              "            <td>2</td>\n",
              "        </tr>\n",
              "        <tr>\n",
              "            <td>Kisumu</td>\n",
              "            <td>2</td>\n",
              "        </tr>\n",
              "        <tr>\n",
              "            <td>Nairobi</td>\n",
              "            <td>2</td>\n",
              "        </tr>\n",
              "        <tr>\n",
              "            <td>Nakuru</td>\n",
              "            <td>3</td>\n",
              "        </tr>\n",
              "        <tr>\n",
              "            <td>Nyamira</td>\n",
              "            <td>1</td>\n",
              "        </tr>\n",
              "        <tr>\n",
              "            <td>Samburu</td>\n",
              "            <td>2</td>\n",
              "        </tr>\n",
              "    </tbody>\n",
              "</table>"
            ]
          },
          "metadata": {},
          "execution_count": 43
        }
      ]
    },
    {
      "cell_type": "markdown",
      "source": [
        "h. Get the count of Male and/or Female students from each secondary_school_county (secondary_school_count). The table should contain a column for male student count and female student count for each county.\n"
      ],
      "metadata": {
        "id": "Rc-m3PHWEQBt"
      }
    },
    {
      "cell_type": "code",
      "source": [
        "%%sql\n",
        "CREATE VIEW secondary_school_count AS\n",
        "SELECT\n",
        "    secondary_school_county,\n",
        "    SUM(CASE WHEN gender = 'Male' THEN 1 ELSE 0 END) AS male_student_count,\n",
        "    SUM(CASE WHEN gender = 'Female' THEN 1 ELSE 0 END) AS female_student_count\n",
        "FROM school_deatils\n",
        "GROUP BY secondary_school_county;\n"
      ],
      "metadata": {
        "colab": {
          "base_uri": "https://localhost:8080/"
        },
        "id": "4lK2-6CDDxJo",
        "outputId": "b089bf57-e874-4300-bcf2-e0acf749a1b2"
      },
      "execution_count": 44,
      "outputs": [
        {
          "output_type": "stream",
          "name": "stdout",
          "text": [
            " * sqlite:///stud_db;\n",
            "Done.\n"
          ]
        },
        {
          "output_type": "execute_result",
          "data": {
            "text/plain": [
              "[]"
            ]
          },
          "metadata": {},
          "execution_count": 44
        }
      ]
    },
    {
      "cell_type": "markdown",
      "source": [
        "i. Get the percentage of students who set their next_of_kin as Mother vs those that set it as Father1. (kin_percentage)\n"
      ],
      "metadata": {
        "id": "LyaBw58RF7nz"
      }
    },
    {
      "cell_type": "code",
      "source": [
        "%%sql\n",
        "SELECT\n",
        "    mother_count,\n",
        "    father_count,\n",
        "    (mother_count * 100.0 / (mother_count + father_count)) AS mother_percentage,\n",
        "    (father_count * 100.0 / (mother_count + father_count)) AS father_percentage\n",
        "FROM (\n",
        "    SELECT\n",
        "        SUM(CASE WHEN next_of_kin_relation = 'Mother' THEN 1 ELSE 0 END) AS mother_count,\n",
        "        SUM(CASE WHEN next_of_kin_relation = 'Father' THEN 1 ELSE 0 END) AS father_count\n",
        "    FROM\n",
        "        contact_details\n",
        ");\n"
      ],
      "metadata": {
        "colab": {
          "base_uri": "https://localhost:8080/",
          "height": 96
        },
        "id": "6fijfNLHHDG7",
        "outputId": "e862edc5-fae7-489e-d7a4-37921876c77d"
      },
      "execution_count": 47,
      "outputs": [
        {
          "output_type": "stream",
          "name": "stdout",
          "text": [
            " * sqlite:///stud_db;\n",
            "Done.\n"
          ]
        },
        {
          "output_type": "execute_result",
          "data": {
            "text/plain": [
              "[(7, 8, 46.666666666666664, 53.333333333333336)]"
            ],
            "text/html": [
              "<table>\n",
              "    <thead>\n",
              "        <tr>\n",
              "            <th>mother_count</th>\n",
              "            <th>father_count</th>\n",
              "            <th>mother_percentage</th>\n",
              "            <th>father_percentage</th>\n",
              "        </tr>\n",
              "    </thead>\n",
              "    <tbody>\n",
              "        <tr>\n",
              "            <td>7</td>\n",
              "            <td>8</td>\n",
              "            <td>46.666666666666664</td>\n",
              "            <td>53.333333333333336</td>\n",
              "        </tr>\n",
              "    </tbody>\n",
              "</table>"
            ]
          },
          "metadata": {},
          "execution_count": 47
        }
      ]
    }
  ],
  "metadata": {
    "colab": {
      "provenance": []
    },
    "kernelspec": {
      "display_name": "Python 3",
      "name": "python3"
    },
    "language_info": {
      "name": "python"
    }
  },
  "nbformat": 4,
  "nbformat_minor": 0
}